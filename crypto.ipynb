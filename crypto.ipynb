{
 "cells": [
  {
   "cell_type": "markdown",
   "metadata": {},
   "source": [
    "## Imports"
   ]
  },
  {
   "cell_type": "code",
   "execution_count": 2095,
   "metadata": {},
   "outputs": [],
   "source": [
    "import pandas as pd\n",
    "import requests\n",
    "from urllib.request import Request, urlopen    \n",
    "from pandas.api.types import is_datetime64_any_dtype as is_datetime\n",
    "from datetime import datetime\n",
    "import math\n",
    "import matplotlib.pyplot  as plt\n",
    "import tabula\n",
    "from tabula.io import read_pdf\n",
    "from statistics import mean\n",
    "import numpy as np\n",
    "from scipy import stats\n",
    "import seaborn as sns\n",
    "\n"
   ]
  },
  {
   "cell_type": "markdown",
   "metadata": {},
   "source": [
    "# Acquisition"
   ]
  },
  {
   "cell_type": "markdown",
   "metadata": {},
   "source": [
    "### Helper functions"
   ]
  },
  {
   "cell_type": "code",
   "execution_count": 2046,
   "metadata": {},
   "outputs": [],
   "source": [
    "#A function that returns a dataframe of all the historic data of a given ticker. \n",
    "def get_yfinance_data(ticker):\n",
    "\turl = f'https://query1.finance.yahoo.com/v7/finance/download/{ticker}?period1=994016928&period2=1642982400&interval=1d&events=history&includeAdjustedClose=true'\n",
    "\n",
    "\tdata = pd.read_csv(url)\n",
    "\n",
    "\treturn data"
   ]
  },
  {
   "cell_type": "markdown",
   "metadata": {},
   "source": [
    "### Retrieval"
   ]
  },
  {
   "cell_type": "code",
   "execution_count": 2047,
   "metadata": {},
   "outputs": [],
   "source": [
    "#Get crypto historic prices\n",
    "df_btc_usd = get_yfinance_data('BTC-USD')\n",
    "df_eth_usd = get_yfinance_data('ETH-USD')\n",
    "df_sol_usd = get_yfinance_data('SOL1-USD')\n",
    "df_ada_usd = get_yfinance_data('ADA-USD')\n",
    "df_doge_usd = get_yfinance_data('DOGE-USD')\n",
    "df_xrp_usd = get_yfinance_data('XRP-USD')\n"
   ]
  },
  {
   "cell_type": "code",
   "execution_count": 2048,
   "metadata": {},
   "outputs": [],
   "source": [
    "crypto_dfs = [df_sol_usd, df_ada_usd, df_doge_usd, df_eth_usd, df_xrp_usd]"
   ]
  },
  {
   "cell_type": "code",
   "execution_count": 2049,
   "metadata": {},
   "outputs": [],
   "source": [
    "#Get SOXX historic prices\n",
    "df_soxx = get_yfinance_data('SOXX')"
   ]
  },
  {
   "cell_type": "code",
   "execution_count": 2050,
   "metadata": {},
   "outputs": [],
   "source": [
    "#Get Crude oil prices\n",
    "df_oil = get_yfinance_data('CL=F')"
   ]
  },
  {
   "cell_type": "code",
   "execution_count": 2051,
   "metadata": {},
   "outputs": [],
   "source": [
    "#Get cloud companies (server providers) ETF prices\n",
    "df_servers = get_yfinance_data('SKYY')"
   ]
  },
  {
   "cell_type": "code",
   "execution_count": 2052,
   "metadata": {},
   "outputs": [],
   "source": [
    "#Get US wildfires\n",
    "df_wildfires = pd.read_csv(\"https://www.ncdc.noaa.gov/societal-impacts/wildfires/ytd/0/data.csv\", skiprows=1)"
   ]
  },
  {
   "cell_type": "code",
   "execution_count": 2053,
   "metadata": {},
   "outputs": [],
   "source": [
    "df_divorce = tabula.read_pdf('https://www.cdc.gov/nchs/data/dvs/national-marriage-divorce-rates-00-19.pdf', pages=1)[0]"
   ]
  },
  {
   "cell_type": "code",
   "execution_count": 2054,
   "metadata": {},
   "outputs": [],
   "source": [
    "#Get Nicolas Cage data\n",
    "url = 'https://imdb-api.com/API/Name/k_vt8o65n8/nm0000115'\n",
    "resp = requests.get(url)\n",
    "nc_data = resp.json()\n",
    "df_nicolas = pd.DataFrame(nc_data['castMovies'])\n"
   ]
  },
  {
   "cell_type": "code",
   "execution_count": 2055,
   "metadata": {},
   "outputs": [],
   "source": [
    "#Get GHG emmissions in Europe\n",
    "#source https://ourworldindata.org/co2-emissions\n",
    "df_ghg = pd.read_csv('datasets/annual-co2-emissions-per-country.csv')"
   ]
  },
  {
   "cell_type": "code",
   "execution_count": 2056,
   "metadata": {},
   "outputs": [],
   "source": [
    "#Get energy conspumption in Europe in kWh\n",
    "#source https://ourworldindata.org/grapher/primary-energy-cons?tab=chart&time=2000..latest&country=~Europe\n",
    "df_nrg = pd.read_csv('datasets/primary-energy-cons.csv')"
   ]
  },
  {
   "cell_type": "code",
   "execution_count": 2057,
   "metadata": {},
   "outputs": [],
   "source": [
    "#Get renewable energy share of total energy consumption\n",
    "df_renewable = pd.read_csv('datasets/nrg_ind_ren_page_linear.csv')"
   ]
  },
  {
   "cell_type": "code",
   "execution_count": 2058,
   "metadata": {},
   "outputs": [],
   "source": [
    "#Get renewable energy production of total production\n",
    "df_renewable_prod = pd.read_csv('datasets/share-elec-by-source.csv')"
   ]
  },
  {
   "cell_type": "markdown",
   "metadata": {},
   "source": [
    "# Wrangling"
   ]
  },
  {
   "cell_type": "markdown",
   "metadata": {},
   "source": [
    "### Helper functions"
   ]
  },
  {
   "cell_type": "code",
   "execution_count": 2059,
   "metadata": {},
   "outputs": [],
   "source": [
    "#Function that returns the oldest data from a list of data frames. \n",
    "def str_to_datetime(dataframes, date_column):\n",
    "\tfor df in dataframes:\n",
    "\t\tdf[date_column] = pd.to_datetime(df[date_column]).dt.date\n",
    "\n",
    "#Function that returns the first date of the \"youngest\" of dataframes\n",
    "def get_min_possible_date(dataframes, date_column):\n",
    "\n",
    "\treturn max([min(dataframe[date_column]) for dataframe in dataframes])\n",
    "\n",
    "\n",
    "#DONT USE, Function that returns the oldest date along with the name of the df that contains it\n",
    "def get_oldest_df(dataframes, date_column):\n",
    "\tol_date = (get_min_possible_date(dataframes, date_column), 42)\n",
    "\tfor i, df in enumerate(dataframes):\n",
    "\t\tfirst_entry = min(df[date_column])\n",
    "\t\tif first_entry < ol_date[0]:\n",
    "\t\t\tol_date = (first_entry, i)\n",
    "\t\n",
    "\treturn ol_date[0], dataframes[ol_date[1]]\n",
    "\n",
    "def clear_years(data): ## remove extra note on year strings\n",
    "\tif len(data) > 4:\n",
    "\t\tdata = data[0:4]\n",
    "\n",
    "\treturn data"
   ]
  },
  {
   "cell_type": "markdown",
   "metadata": {},
   "source": [
    "### Crypto Index"
   ]
  },
  {
   "cell_type": "markdown",
   "metadata": {},
   "source": [
    "We know that bitcoin is the oldest cryptocurrency so we can calculate the index with it as a base"
   ]
  },
  {
   "cell_type": "code",
   "execution_count": 2060,
   "metadata": {},
   "outputs": [],
   "source": [
    "#Clean data to just the variables we need\n",
    "df_btc_usd = df_btc_usd[['Date', 'Close', 'Volume']].rename({'Close': 'BTC_price', 'Volume': 'BTC_vol'}, axis=1)\n",
    "df_eth_usd = df_eth_usd[['Date', 'Close', 'Volume']].rename({'Close': 'ETH_price', 'Volume': 'ETH_vol'}, axis=1)\n",
    "df_sol_usd = df_sol_usd[['Date', 'Close', 'Volume']].rename({'Close': 'SOL_price', 'Volume': 'SOL_vol'}, axis=1)\n",
    "df_ada_usd = df_ada_usd[['Date', 'Close', 'Volume']].rename({'Close': 'ADA_price', 'Volume': 'ADA_vol'}, axis=1)\n",
    "df_doge_usd = df_doge_usd[['Date', 'Close', 'Volume']].rename({'Close': 'DOGE_price', 'Volume': 'DOGE_vol'}, axis=1)\n",
    "df_xrp_usd = df_xrp_usd[['Date', 'Close', 'Volume']].rename({'Close': 'XRP_price', 'Volume': 'XRP_vol'}, axis=1)\n"
   ]
  },
  {
   "cell_type": "code",
   "execution_count": 2061,
   "metadata": {},
   "outputs": [],
   "source": [
    "#Create new Dataframe inlcuding all cryptocurrencies closing prices and volumes\n",
    "cr_index = df_btc_usd\n",
    "cr_index = cr_index.merge(df_eth_usd, on='Date', how='left')\n",
    "cr_index = cr_index.merge(df_ada_usd, on='Date', how='left')\n",
    "cr_index = cr_index.merge(df_xrp_usd, on='Date', how='left')\n",
    "cr_index = cr_index.merge(df_doge_usd, on='Date', how='left')\n",
    "cr_index = cr_index.merge(df_sol_usd, on='Date', how='left')"
   ]
  },
  {
   "cell_type": "code",
   "execution_count": 2062,
   "metadata": {},
   "outputs": [],
   "source": [
    "#Turn \"Date\" column to datetime format instead of str\n",
    "str_to_datetime([cr_index], 'Date')\n",
    "\n",
    "#Fill NaNs with 0\n",
    "cr_index = cr_index.fillna(0)\n",
    "\n",
    "#Calculate total trading volume per day\n",
    "cr_index['tot_volume'] = cr_index[['BTC_vol', 'ETH_vol', 'ADA_vol', 'XRP_vol', 'DOGE_vol', 'SOL_vol']].sum(axis=1)"
   ]
  },
  {
   "cell_type": "code",
   "execution_count": 2063,
   "metadata": {},
   "outputs": [
    {
     "data": {
      "text/plain": [
       "Index(['Date', 'BTC_price', 'BTC_vol', 'ETH_price', 'ETH_vol', 'ADA_price',\n",
       "       'ADA_vol', 'XRP_price', 'XRP_vol', 'DOGE_price', 'DOGE_vol',\n",
       "       'SOL_price', 'SOL_vol', 'tot_volume'],\n",
       "      dtype='object')"
      ]
     },
     "execution_count": 2063,
     "metadata": {},
     "output_type": "execute_result"
    }
   ],
   "source": [
    "cr_index.columns"
   ]
  },
  {
   "cell_type": "code",
   "execution_count": 2064,
   "metadata": {},
   "outputs": [],
   "source": [
    "\n",
    "def index_calc(df):\n",
    "\n",
    "\treturn math.log10(sum([(df['BTC_price']*(df['BTC_vol']/df['tot_volume'])),\n",
    "\t\t\t  (df['ETH_price']*(df['ETH_vol']/df['tot_volume'])),\n",
    "\t\t\t  (df['ADA_price']*(df['ADA_vol']/df['tot_volume'])),\n",
    "\t\t\t  (df['XRP_price']*(df['XRP_vol']/df['tot_volume'])),\n",
    "\t\t\t  (df['DOGE_price']*(df['DOGE_vol']/df['tot_volume'])),\n",
    "\t\t\t  (df['SOL_price']*(df['SOL_vol']/df['tot_volume']))]))\n",
    "\n",
    "cr_index['Crypto_Index'] = cr_index.apply(index_calc, axis=1)\n",
    "cr_index = cr_index[['Date', 'Crypto_Index']]\n",
    "cr_index['Date'] = pd.to_datetime(cr_index['Date'])\n",
    "cr_index = cr_index.set_index(cr_index['Date'])\n",
    "cr_index = cr_index[['Crypto_Index']]\n",
    "cr_index = cr_index.groupby(cr_index.index.year).agg('mean')"
   ]
  },
  {
   "cell_type": "code",
   "execution_count": 2065,
   "metadata": {},
   "outputs": [
    {
     "data": {
      "text/plain": [
       "<AxesSubplot:xlabel='Date'>"
      ]
     },
     "execution_count": 2065,
     "metadata": {},
     "output_type": "execute_result"
    },
    {
     "data": {
      "image/png": "[encoded data removed]",
      "text/plain": [
       "<Figure size 432x288 with 1 Axes>"
      ]
     },
     "metadata": {
      "needs_background": "light"
     },
     "output_type": "display_data"
    }
   ],
   "source": [
    "cr_index.plot()"
   ]
  },
  {
   "cell_type": "markdown",
   "metadata": {},
   "source": [
    "### Other indices"
   ]
  },
  {
   "cell_type": "code",
   "execution_count": 2066,
   "metadata": {},
   "outputs": [],
   "source": [
    "#Finance dataframes to datetime format\n",
    "df_soxx['Date'] = pd.to_datetime(df_soxx['Date'])\n",
    "df_oil['Date'] = pd.to_datetime(df_oil['Date'])\n",
    "df_servers['Date'] = pd.to_datetime(df_servers['Date'])"
   ]
  },
  {
   "cell_type": "code",
   "execution_count": 2067,
   "metadata": {},
   "outputs": [],
   "source": [
    "#Wildfires prep\n",
    "df_wildfires['Date'] = pd.to_datetime(df_wildfires['Date'], format=\"%Y%m\")"
   ]
  },
  {
   "cell_type": "code",
   "execution_count": 2068,
   "metadata": {},
   "outputs": [],
   "source": [
    "df_divorce.rename(columns=df_divorce.iloc[1], inplace=True) #column names were perceived as a row, turn the into actual column names\n",
    "df_divorce = df_divorce.iloc[2:, :] # delete first 2 rows of no data\n",
    "df_divorce = df_divorce.reset_index().drop('index',axis=1) # drop old index after reset\n",
    "df_divorce['Year'] = df_divorce['Year'].apply(clear_years) #clear year data strings from unwanted extra note\n",
    "df_divorce.rename(columns={'Year': 'Date'}, inplace=True) # change name for consistency\n",
    "df_divorce['Date'] = pd.to_datetime(df_divorce['Date'], format='%Y')\n",
    "df_divorce.replace(',', '', inplace=True, regex=True) #remove commas from number strings so we an turn them into int\n",
    "df_divorce[['Marriages', 'Population', 'population']] = df_divorce[['Marriages', 'Population', 'population']].apply(pd.to_numeric) #turn str numbers into int"
   ]
  },
  {
   "cell_type": "code",
   "execution_count": 2069,
   "metadata": {},
   "outputs": [],
   "source": [
    "#Nicolas Cage prep\n",
    "df_nicolas = df_nicolas[df_nicolas['role'] == \"Actor\"] #Keep only movies where he was an actor\n",
    "df_nicolas = df_nicolas[['year', 'title', 'description']] # drop redundant columns and change order\n",
    "df_nicolas = df_nicolas[df_nicolas['year'] != ''] #drop that haven't been released yet\n",
    "df_nicolas.rename(columns={'year': 'Date'}, inplace=True) #rename year column for consistency\n",
    "df_nicolas['Date'] = df_nicolas['Date'].apply(clear_years) #Clear years for notes and extra chars\n",
    "df_nicolas['Date'] = pd.to_datetime(df_nicolas['Date']) #str to datetime for Years column\n",
    "df_nicolas = df_nicolas.sort_values('Date', ascending=False) #sort new to old\n",
    "df_nicolas = df_nicolas.reset_index().drop('index',axis=1) # drop old index after reset\n",
    "df_nicolas = pd.DataFrame(df_nicolas['title'].groupby(df_nicolas['Date']).agg('count') ) #get number of movies per year\n",
    "df_nicolas.reset_index(inplace=True) #reset the idex for consistency\n",
    "df_nicolas.rename(columns={'title': 'no. of movies'}, inplace=True) #change name for clarity"
   ]
  },
  {
   "cell_type": "code",
   "execution_count": 2070,
   "metadata": {},
   "outputs": [],
   "source": [
    "#GHG prep\n",
    "df_ghg = df_ghg[df_ghg['Entity'] == 'Europe'] # Select only europe\n",
    "df_ghg = df_ghg[df_ghg['Year'] >= 2000] # Select data only form 2000 and beyond\n",
    "df_ghg.rename(columns={'Year':'Date', 'Annual CO2 emissions':'Value(tn)'}, inplace=True) #Change columns name values for consistency\n",
    "df_ghg['Date'] = pd.to_datetime(df_ghg['Date'], format='%Y') #Date from str to datetime\n",
    "df_ghg = df_ghg.reset_index().drop('index',axis=1) #reset and clear index\n",
    "df_ghg = df_ghg[['Date', 'Value(tn)']] #keep only relevant columns"
   ]
  },
  {
   "cell_type": "code",
   "execution_count": 2071,
   "metadata": {},
   "outputs": [
    {
     "data": {
      "text/html": [
       "<div>\n",
       "<style scoped>\n",
       "    .dataframe tbody tr th:only-of-type {\n",
       "        vertical-align: middle;\n",
       "    }\n",
       "\n",
       "    .dataframe tbody tr th {\n",
       "        vertical-align: top;\n",
       "    }\n",
       "\n",
       "    .dataframe thead th {\n",
       "        text-align: right;\n",
       "    }\n",
       "</style>\n",
       "<table border=\"1\" class=\"dataframe\">\n",
       "  <thead>\n",
       "    <tr style=\"text-align: right;\">\n",
       "      <th></th>\n",
       "      <th>Value(TWh)</th>\n",
       "    </tr>\n",
       "    <tr>\n",
       "      <th>Date</th>\n",
       "      <th></th>\n",
       "    </tr>\n",
       "  </thead>\n",
       "  <tbody>\n",
       "    <tr>\n",
       "      <th>2011</th>\n",
       "      <td>24071.279</td>\n",
       "    </tr>\n",
       "    <tr>\n",
       "      <th>2012</th>\n",
       "      <td>23977.085</td>\n",
       "    </tr>\n",
       "    <tr>\n",
       "      <th>2013</th>\n",
       "      <td>23729.439</td>\n",
       "    </tr>\n",
       "    <tr>\n",
       "      <th>2014</th>\n",
       "      <td>22806.380</td>\n",
       "    </tr>\n",
       "    <tr>\n",
       "      <th>2015</th>\n",
       "      <td>22992.401</td>\n",
       "    </tr>\n",
       "    <tr>\n",
       "      <th>2016</th>\n",
       "      <td>23305.822</td>\n",
       "    </tr>\n",
       "    <tr>\n",
       "      <th>2017</th>\n",
       "      <td>23543.516</td>\n",
       "    </tr>\n",
       "    <tr>\n",
       "      <th>2018</th>\n",
       "      <td>23543.272</td>\n",
       "    </tr>\n",
       "    <tr>\n",
       "      <th>2019</th>\n",
       "      <td>23282.096</td>\n",
       "    </tr>\n",
       "  </tbody>\n",
       "</table>\n",
       "</div>"
      ],
      "text/plain": [
       "      Value(TWh)\n",
       "Date            \n",
       "2011   24071.279\n",
       "2012   23977.085\n",
       "2013   23729.439\n",
       "2014   22806.380\n",
       "2015   22992.401\n",
       "2016   23305.822\n",
       "2017   23543.516\n",
       "2018   23543.272\n",
       "2019   23282.096"
      ]
     },
     "execution_count": 2071,
     "metadata": {},
     "output_type": "execute_result"
    }
   ],
   "source": [
    "#Energy consumption prep\n",
    "df_nrg = df_nrg[df_nrg['Entity'] == 'Europe'] # Select only europe\n",
    "df_nrg = df_nrg[df_nrg['Year'] >= 2011] # Select data only form 2000 and beyond\n",
    "df_nrg.rename(columns={'Year':'Date', 'Primary energy consumption (TWh)':'Value(TWh)'}, inplace=True) #Change columns name values for consistency\n",
    "df_nrg['Date'] = pd.to_datetime(df_nrg['Date'], format='%Y') #Date from str to datetime\n",
    "df_nrg = df_nrg.reset_index().drop('index',axis=1) #reset and clear index\n",
    "df_nrg = df_nrg[['Date', 'Value(TWh)']] #keep only relevant columns\n",
    "df_nrg['Date'] = df_nrg['Date'].dt.year\n",
    "df_nrg = df_nrg.set_index('Date')\n",
    "df_nrg"
   ]
  },
  {
   "cell_type": "code",
   "execution_count": 2072,
   "metadata": {},
   "outputs": [
    {
     "data": {
      "text/html": [
       "<div>\n",
       "<style scoped>\n",
       "    .dataframe tbody tr th:only-of-type {\n",
       "        vertical-align: middle;\n",
       "    }\n",
       "\n",
       "    .dataframe tbody tr th {\n",
       "        vertical-align: top;\n",
       "    }\n",
       "\n",
       "    .dataframe thead th {\n",
       "        text-align: right;\n",
       "    }\n",
       "</style>\n",
       "<table border=\"1\" class=\"dataframe\">\n",
       "  <thead>\n",
       "    <tr style=\"text-align: right;\">\n",
       "      <th></th>\n",
       "      <th>renew_from_total</th>\n",
       "    </tr>\n",
       "    <tr>\n",
       "      <th>Date</th>\n",
       "      <th></th>\n",
       "    </tr>\n",
       "  </thead>\n",
       "  <tbody>\n",
       "    <tr>\n",
       "      <th>2011</th>\n",
       "      <td>4955</td>\n",
       "    </tr>\n",
       "    <tr>\n",
       "      <th>2012</th>\n",
       "      <td>5233</td>\n",
       "    </tr>\n",
       "    <tr>\n",
       "      <th>2013</th>\n",
       "      <td>5376</td>\n",
       "    </tr>\n",
       "    <tr>\n",
       "      <th>2014</th>\n",
       "      <td>5372</td>\n",
       "    </tr>\n",
       "    <tr>\n",
       "      <th>2015</th>\n",
       "      <td>5524</td>\n",
       "    </tr>\n",
       "    <tr>\n",
       "      <th>2016</th>\n",
       "      <td>5666</td>\n",
       "    </tr>\n",
       "    <tr>\n",
       "      <th>2017</th>\n",
       "      <td>5774</td>\n",
       "    </tr>\n",
       "    <tr>\n",
       "      <th>2018</th>\n",
       "      <td>6003</td>\n",
       "    </tr>\n",
       "    <tr>\n",
       "      <th>2019</th>\n",
       "      <td>6110</td>\n",
       "    </tr>\n",
       "  </tbody>\n",
       "</table>\n",
       "</div>"
      ],
      "text/plain": [
       "      renew_from_total\n",
       "Date                  \n",
       "2011              4955\n",
       "2012              5233\n",
       "2013              5376\n",
       "2014              5372\n",
       "2015              5524\n",
       "2016              5666\n",
       "2017              5774\n",
       "2018              6003\n",
       "2019              6110"
      ]
     },
     "execution_count": 2072,
     "metadata": {},
     "output_type": "execute_result"
    }
   ],
   "source": [
    "#Renewables consumption prepprep\n",
    "#drop everything but countries \n",
    "\n",
    "df_renewable.drop(df_renewable[df_renewable['geo'] == 'EU27_2020'].index, inplace = True) \n",
    "df_renewable.drop(df_renewable[df_renewable['geo'] == 'EA19'].index, inplace = True)\n",
    "a = (df_renewable.groupby(['TIME_PERIOD','OBS_VALUE'],as_index = False)['OBS_VALUE'].mean().groupby('TIME_PERIOD').mean()).reset_index()\n",
    "a['TIME_PERIOD'] = pd.to_datetime(a['TIME_PERIOD'], format='%Y')\n",
    "a.rename(columns={'TIME_PERIOD': 'Date', 'OBS_VALUE': 'avg_share'}, inplace=True)\n",
    "df_renewable = a\n",
    "\n",
    "df_renewable['Date'] = df_renewable['Date'].dt.year\n",
    "df_renewable = df_renewable.set_index('Date')\n",
    "df_renewable = df_renewable[df_renewable.index < 2020]\n",
    "df_renewable['avg_share'] = df_renewable['avg_share'] / 100\n",
    "df_renewable['renew_from_total'] = (df_renewable['avg_share'] * df_nrg['Value(TWh)']).astype('int')\n",
    "df_renewable = df_renewable[['renew_from_total']]\n",
    "df_renewable"
   ]
  },
  {
   "cell_type": "markdown",
   "metadata": {},
   "source": [
    "## Combine data into index"
   ]
  },
  {
   "cell_type": "code",
   "execution_count": 2073,
   "metadata": {},
   "outputs": [
    {
     "data": {
      "text/html": [
       "<div>\n",
       "<style scoped>\n",
       "    .dataframe tbody tr th:only-of-type {\n",
       "        vertical-align: middle;\n",
       "    }\n",
       "\n",
       "    .dataframe tbody tr th {\n",
       "        vertical-align: top;\n",
       "    }\n",
       "\n",
       "    .dataframe thead th {\n",
       "        text-align: right;\n",
       "    }\n",
       "</style>\n",
       "<table border=\"1\" class=\"dataframe\">\n",
       "  <thead>\n",
       "    <tr style=\"text-align: right;\">\n",
       "      <th></th>\n",
       "      <th>Crypto_Index</th>\n",
       "    </tr>\n",
       "    <tr>\n",
       "      <th>Date</th>\n",
       "      <th></th>\n",
       "    </tr>\n",
       "  </thead>\n",
       "  <tbody>\n",
       "    <tr>\n",
       "      <th>2014</th>\n",
       "      <td>2.559234</td>\n",
       "    </tr>\n",
       "    <tr>\n",
       "      <th>2015</th>\n",
       "      <td>2.426660</td>\n",
       "    </tr>\n",
       "    <tr>\n",
       "      <th>2016</th>\n",
       "      <td>2.741805</td>\n",
       "    </tr>\n",
       "    <tr>\n",
       "      <th>2017</th>\n",
       "      <td>3.418463</td>\n",
       "    </tr>\n",
       "    <tr>\n",
       "      <th>2018</th>\n",
       "      <td>3.687590</td>\n",
       "    </tr>\n",
       "    <tr>\n",
       "      <th>2019</th>\n",
       "      <td>3.660965</td>\n",
       "    </tr>\n",
       "  </tbody>\n",
       "</table>\n",
       "</div>"
      ],
      "text/plain": [
       "      Crypto_Index\n",
       "Date              \n",
       "2014      2.559234\n",
       "2015      2.426660\n",
       "2016      2.741805\n",
       "2017      3.418463\n",
       "2018      3.687590\n",
       "2019      3.660965"
      ]
     },
     "execution_count": 2073,
     "metadata": {},
     "output_type": "execute_result"
    }
   ],
   "source": [
    "cr_index = cr_index[cr_index.index >= 2014]\n",
    "cr_index = cr_index[cr_index.index < 2020]\n",
    "cr_index"
   ]
  },
  {
   "cell_type": "code",
   "execution_count": 2074,
   "metadata": {},
   "outputs": [],
   "source": [
    "df_ghg['Date'] = df_ghg['Date'].dt.year\n",
    "df_ghg = df_ghg.set_index(df_ghg['Date'])\n",
    "df_ghg = df_ghg.drop('Date', axis=1)\n",
    "df_ghg = df_ghg[df_ghg.index >= 2014]\n",
    "df_ghg = df_ghg[df_ghg.index < 2020]\n",
    "\n",
    "df_nrg = df_nrg[df_nrg.index >= 2014]\n",
    "df_nrg = df_nrg[df_nrg.index < 2020]\n",
    "\n",
    "df_renewable = df_renewable[df_renewable.index >= 2014]\n",
    "df_renewable = df_renewable[df_renewable.index < 2020]"
   ]
  },
  {
   "cell_type": "code",
   "execution_count": 2075,
   "metadata": {},
   "outputs": [
    {
     "data": {
      "text/html": [
       "<div>\n",
       "<style scoped>\n",
       "    .dataframe tbody tr th:only-of-type {\n",
       "        vertical-align: middle;\n",
       "    }\n",
       "\n",
       "    .dataframe tbody tr th {\n",
       "        vertical-align: top;\n",
       "    }\n",
       "\n",
       "    .dataframe thead th {\n",
       "        text-align: right;\n",
       "    }\n",
       "</style>\n",
       "<table border=\"1\" class=\"dataframe\">\n",
       "  <thead>\n",
       "    <tr style=\"text-align: right;\">\n",
       "      <th></th>\n",
       "      <th>Value(tn)</th>\n",
       "    </tr>\n",
       "    <tr>\n",
       "      <th>Date</th>\n",
       "      <th></th>\n",
       "    </tr>\n",
       "  </thead>\n",
       "  <tbody>\n",
       "    <tr>\n",
       "      <th>2014</th>\n",
       "      <td>5589757324</td>\n",
       "    </tr>\n",
       "    <tr>\n",
       "      <th>2015</th>\n",
       "      <td>5594384221</td>\n",
       "    </tr>\n",
       "    <tr>\n",
       "      <th>2016</th>\n",
       "      <td>5590252902</td>\n",
       "    </tr>\n",
       "    <tr>\n",
       "      <th>2017</th>\n",
       "      <td>5620306625</td>\n",
       "    </tr>\n",
       "    <tr>\n",
       "      <th>2018</th>\n",
       "      <td>5593057381</td>\n",
       "    </tr>\n",
       "    <tr>\n",
       "      <th>2019</th>\n",
       "      <td>5430238970</td>\n",
       "    </tr>\n",
       "  </tbody>\n",
       "</table>\n",
       "</div>"
      ],
      "text/plain": [
       "       Value(tn)\n",
       "Date            \n",
       "2014  5589757324\n",
       "2015  5594384221\n",
       "2016  5590252902\n",
       "2017  5620306625\n",
       "2018  5593057381\n",
       "2019  5430238970"
      ]
     },
     "execution_count": 2075,
     "metadata": {},
     "output_type": "execute_result"
    }
   ],
   "source": [
    "df_ghg"
   ]
  },
  {
   "cell_type": "code",
   "execution_count": 2076,
   "metadata": {},
   "outputs": [],
   "source": [
    "climate_index = df_ghg\n",
    "climate_index = climate_index.merge(df_renewable, left_index=True, right_index=True)\n",
    "climate_index = climate_index.merge(df_nrg, left_index=True, right_index=True)"
   ]
  },
  {
   "cell_type": "code",
   "execution_count": 2077,
   "metadata": {},
   "outputs": [],
   "source": [
    "# climate_index['Value(tn)'] = climate_index['Value(tn)'] /2\n",
    "# climate_index['renew_from_total'] = climate_index['renew_from_total'] * 0.25\n",
    "# climate_index['Value(TWh)'] = climate_index['Value(TWh)'] * 0.25"
   ]
  },
  {
   "cell_type": "code",
   "execution_count": 2078,
   "metadata": {},
   "outputs": [
    {
     "data": {
      "text/html": [
       "<div>\n",
       "<style scoped>\n",
       "    .dataframe tbody tr th:only-of-type {\n",
       "        vertical-align: middle;\n",
       "    }\n",
       "\n",
       "    .dataframe tbody tr th {\n",
       "        vertical-align: top;\n",
       "    }\n",
       "\n",
       "    .dataframe thead th {\n",
       "        text-align: right;\n",
       "    }\n",
       "</style>\n",
       "<table border=\"1\" class=\"dataframe\">\n",
       "  <thead>\n",
       "    <tr style=\"text-align: right;\">\n",
       "      <th></th>\n",
       "      <th>Value(tn)</th>\n",
       "      <th>renew_from_total</th>\n",
       "      <th>Value(TWh)</th>\n",
       "      <th>Index</th>\n",
       "    </tr>\n",
       "    <tr>\n",
       "      <th>Date</th>\n",
       "      <th></th>\n",
       "      <th></th>\n",
       "      <th></th>\n",
       "      <th></th>\n",
       "    </tr>\n",
       "  </thead>\n",
       "  <tbody>\n",
       "    <tr>\n",
       "      <th>2014</th>\n",
       "      <td>5589757324</td>\n",
       "      <td>5372</td>\n",
       "      <td>22806.380</td>\n",
       "      <td>9.446364</td>\n",
       "    </tr>\n",
       "    <tr>\n",
       "      <th>2015</th>\n",
       "      <td>5594384221</td>\n",
       "      <td>5524</td>\n",
       "      <td>22992.401</td>\n",
       "      <td>9.446723</td>\n",
       "    </tr>\n",
       "    <tr>\n",
       "      <th>2016</th>\n",
       "      <td>5590252902</td>\n",
       "      <td>5666</td>\n",
       "      <td>23305.822</td>\n",
       "      <td>9.446403</td>\n",
       "    </tr>\n",
       "    <tr>\n",
       "      <th>2017</th>\n",
       "      <td>5620306625</td>\n",
       "      <td>5774</td>\n",
       "      <td>23543.516</td>\n",
       "      <td>9.448731</td>\n",
       "    </tr>\n",
       "    <tr>\n",
       "      <th>2018</th>\n",
       "      <td>5593057381</td>\n",
       "      <td>6003</td>\n",
       "      <td>23543.272</td>\n",
       "      <td>9.446620</td>\n",
       "    </tr>\n",
       "    <tr>\n",
       "      <th>2019</th>\n",
       "      <td>5430238970</td>\n",
       "      <td>6110</td>\n",
       "      <td>23282.096</td>\n",
       "      <td>9.433790</td>\n",
       "    </tr>\n",
       "  </tbody>\n",
       "</table>\n",
       "</div>"
      ],
      "text/plain": [
       "       Value(tn)  renew_from_total  Value(TWh)     Index\n",
       "Date                                                    \n",
       "2014  5589757324              5372   22806.380  9.446364\n",
       "2015  5594384221              5524   22992.401  9.446723\n",
       "2016  5590252902              5666   23305.822  9.446403\n",
       "2017  5620306625              5774   23543.516  9.448731\n",
       "2018  5593057381              6003   23543.272  9.446620\n",
       "2019  5430238970              6110   23282.096  9.433790"
      ]
     },
     "execution_count": 2078,
     "metadata": {},
     "output_type": "execute_result"
    }
   ],
   "source": [
    "def indexize(df):\n",
    "\ts = sum([df['Value(tn)']*0.50, df['renew_from_total']*0.25, df['Value(TWh)']*0.25])\n",
    "\treturn math.log10(s)\n",
    "\t\n",
    "climate_index['Index'] = climate_index.apply(indexize, axis=1)\n",
    "climate_index "
   ]
  },
  {
   "cell_type": "code",
   "execution_count": 2079,
   "metadata": {},
   "outputs": [
    {
     "data": {
      "text/html": [
       "<div>\n",
       "<style scoped>\n",
       "    .dataframe tbody tr th:only-of-type {\n",
       "        vertical-align: middle;\n",
       "    }\n",
       "\n",
       "    .dataframe tbody tr th {\n",
       "        vertical-align: top;\n",
       "    }\n",
       "\n",
       "    .dataframe thead th {\n",
       "        text-align: right;\n",
       "    }\n",
       "</style>\n",
       "<table border=\"1\" class=\"dataframe\">\n",
       "  <thead>\n",
       "    <tr style=\"text-align: right;\">\n",
       "      <th></th>\n",
       "      <th>Value(tn)</th>\n",
       "      <th>renew_from_total</th>\n",
       "      <th>Value(TWh)</th>\n",
       "      <th>Index</th>\n",
       "    </tr>\n",
       "    <tr>\n",
       "      <th>Date</th>\n",
       "      <th></th>\n",
       "      <th></th>\n",
       "      <th></th>\n",
       "      <th></th>\n",
       "    </tr>\n",
       "  </thead>\n",
       "  <tbody>\n",
       "    <tr>\n",
       "      <th>2014</th>\n",
       "      <td>5589757324</td>\n",
       "      <td>5372</td>\n",
       "      <td>22806.380</td>\n",
       "      <td>9.446364</td>\n",
       "    </tr>\n",
       "    <tr>\n",
       "      <th>2015</th>\n",
       "      <td>5594384221</td>\n",
       "      <td>5524</td>\n",
       "      <td>22992.401</td>\n",
       "      <td>9.446723</td>\n",
       "    </tr>\n",
       "    <tr>\n",
       "      <th>2016</th>\n",
       "      <td>5590252902</td>\n",
       "      <td>5666</td>\n",
       "      <td>23305.822</td>\n",
       "      <td>9.446403</td>\n",
       "    </tr>\n",
       "    <tr>\n",
       "      <th>2017</th>\n",
       "      <td>5620306625</td>\n",
       "      <td>5774</td>\n",
       "      <td>23543.516</td>\n",
       "      <td>9.448731</td>\n",
       "    </tr>\n",
       "    <tr>\n",
       "      <th>2018</th>\n",
       "      <td>5593057381</td>\n",
       "      <td>6003</td>\n",
       "      <td>23543.272</td>\n",
       "      <td>9.446620</td>\n",
       "    </tr>\n",
       "    <tr>\n",
       "      <th>2019</th>\n",
       "      <td>5430238970</td>\n",
       "      <td>6110</td>\n",
       "      <td>23282.096</td>\n",
       "      <td>9.433790</td>\n",
       "    </tr>\n",
       "  </tbody>\n",
       "</table>\n",
       "</div>"
      ],
      "text/plain": [
       "       Value(tn)  renew_from_total  Value(TWh)     Index\n",
       "Date                                                    \n",
       "2014  5589757324              5372   22806.380  9.446364\n",
       "2015  5594384221              5524   22992.401  9.446723\n",
       "2016  5590252902              5666   23305.822  9.446403\n",
       "2017  5620306625              5774   23543.516  9.448731\n",
       "2018  5593057381              6003   23543.272  9.446620\n",
       "2019  5430238970              6110   23282.096  9.433790"
      ]
     },
     "execution_count": 2079,
     "metadata": {},
     "output_type": "execute_result"
    }
   ],
   "source": [
    "climate_index"
   ]
  },
  {
   "cell_type": "code",
   "execution_count": 2080,
   "metadata": {},
   "outputs": [
    {
     "data": {
      "text/html": [
       "<div>\n",
       "<style scoped>\n",
       "    .dataframe tbody tr th:only-of-type {\n",
       "        vertical-align: middle;\n",
       "    }\n",
       "\n",
       "    .dataframe tbody tr th {\n",
       "        vertical-align: top;\n",
       "    }\n",
       "\n",
       "    .dataframe thead th {\n",
       "        text-align: right;\n",
       "    }\n",
       "</style>\n",
       "<table border=\"1\" class=\"dataframe\">\n",
       "  <thead>\n",
       "    <tr style=\"text-align: right;\">\n",
       "      <th></th>\n",
       "      <th>Crypto_Index</th>\n",
       "    </tr>\n",
       "    <tr>\n",
       "      <th>Date</th>\n",
       "      <th></th>\n",
       "    </tr>\n",
       "  </thead>\n",
       "  <tbody>\n",
       "    <tr>\n",
       "      <th>2014</th>\n",
       "      <td>2.559234</td>\n",
       "    </tr>\n",
       "    <tr>\n",
       "      <th>2015</th>\n",
       "      <td>2.426660</td>\n",
       "    </tr>\n",
       "    <tr>\n",
       "      <th>2016</th>\n",
       "      <td>2.741805</td>\n",
       "    </tr>\n",
       "    <tr>\n",
       "      <th>2017</th>\n",
       "      <td>3.418463</td>\n",
       "    </tr>\n",
       "    <tr>\n",
       "      <th>2018</th>\n",
       "      <td>3.687590</td>\n",
       "    </tr>\n",
       "    <tr>\n",
       "      <th>2019</th>\n",
       "      <td>3.660965</td>\n",
       "    </tr>\n",
       "  </tbody>\n",
       "</table>\n",
       "</div>"
      ],
      "text/plain": [
       "      Crypto_Index\n",
       "Date              \n",
       "2014      2.559234\n",
       "2015      2.426660\n",
       "2016      2.741805\n",
       "2017      3.418463\n",
       "2018      3.687590\n",
       "2019      3.660965"
      ]
     },
     "execution_count": 2080,
     "metadata": {},
     "output_type": "execute_result"
    }
   ],
   "source": [
    "cr_index"
   ]
  },
  {
   "cell_type": "code",
   "execution_count": 2081,
   "metadata": {},
   "outputs": [
    {
     "data": {
      "text/plain": [
       "<AxesSubplot:xlabel='Date'>"
      ]
     },
     "execution_count": 2081,
     "metadata": {},
     "output_type": "execute_result"
    },
    {
     "data": {
      "image/png": "[encoded data removed]",
      "text/plain": [
       "<Figure size 432x288 with 1 Axes>"
      ]
     },
     "metadata": {
      "needs_background": "light"
     },
     "output_type": "display_data"
    }
   ],
   "source": [
    "cr_index.plot()\n",
    "climate_index['Index'].plot()"
   ]
  },
  {
   "cell_type": "code",
   "execution_count": 2085,
   "metadata": {},
   "outputs": [
    {
     "data": {
      "text/plain": [
       "(-0.42169867237987035, 0.4049472804500055)"
      ]
     },
     "execution_count": 2085,
     "metadata": {},
     "output_type": "execute_result"
    }
   ],
   "source": [
    "stats.pearsonr(cr_index['Crypto_Index'], climate_index['Index'])"
   ]
  },
  {
   "cell_type": "code",
   "execution_count": 2091,
   "metadata": {},
   "outputs": [],
   "source": [
    "corel = cr_index\n",
    "corel = corel.merge(climate_index['Index'], left_index=True, right_index=True)\n"
   ]
  },
  {
   "cell_type": "code",
   "execution_count": 2097,
   "metadata": {},
   "outputs": [
    {
     "data": {
      "text/html": [
       "<div>\n",
       "<style scoped>\n",
       "    .dataframe tbody tr th:only-of-type {\n",
       "        vertical-align: middle;\n",
       "    }\n",
       "\n",
       "    .dataframe tbody tr th {\n",
       "        vertical-align: top;\n",
       "    }\n",
       "\n",
       "    .dataframe thead th {\n",
       "        text-align: right;\n",
       "    }\n",
       "</style>\n",
       "<table border=\"1\" class=\"dataframe\">\n",
       "  <thead>\n",
       "    <tr style=\"text-align: right;\">\n",
       "      <th></th>\n",
       "      <th>Crypto_Index</th>\n",
       "      <th>Index</th>\n",
       "    </tr>\n",
       "  </thead>\n",
       "  <tbody>\n",
       "    <tr>\n",
       "      <th>Crypto_Index</th>\n",
       "      <td>1.000000</td>\n",
       "      <td>-0.421699</td>\n",
       "    </tr>\n",
       "    <tr>\n",
       "      <th>Index</th>\n",
       "      <td>-0.421699</td>\n",
       "      <td>1.000000</td>\n",
       "    </tr>\n",
       "  </tbody>\n",
       "</table>\n",
       "</div>"
      ],
      "text/plain": [
       "              Crypto_Index     Index\n",
       "Crypto_Index      1.000000 -0.421699\n",
       "Index            -0.421699  1.000000"
      ]
     },
     "execution_count": 2097,
     "metadata": {},
     "output_type": "execute_result"
    }
   ],
   "source": [
    "corel.corr()"
   ]
  },
  {
   "cell_type": "code",
   "execution_count": null,
   "metadata": {},
   "outputs": [],
   "source": []
  }
 ],
 "metadata": {
  "interpreter": {
   "hash": "aee8b7b246df8f9039afb4144a1f6fd8d2ca17a180786b69acc140d282b71a49"
  },
  "kernelspec": {
   "display_name": "Python 3.9.8 64-bit",
   "language": "python",
   "name": "python3"
  },
  "language_info": {
   "codemirror_mode": {
    "name": "ipython",
    "version": 3
   },
   "file_extension": ".py",
   "mimetype": "text/x-python",
   "name": "python",
   "nbconvert_exporter": "python",
   "pygments_lexer": "ipython3",
   "version": "3.9.8"
  },
  "orig_nbformat": 4
 },
 "nbformat": 4,
 "nbformat_minor": 2
}
