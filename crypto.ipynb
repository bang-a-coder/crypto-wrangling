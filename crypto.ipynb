{
 "cells": [
  {
   "cell_type": "markdown",
   "metadata": {},
   "source": [
    "## Imports"
   ]
  },
  {
   "cell_type": "code",
   "execution_count": 296,
   "metadata": {},
   "outputs": [],
   "source": [
    "import pandas as pd\n",
    "import requests\n",
    "from urllib.request import Request, urlopen    \n",
    "from pandas.api.types import is_datetime64_any_dtype as is_datetime\n",
    "from datetime import datetime\n",
    "import math\n",
    "import matplotlib.pyplot  as plt\n",
    "\n"
   ]
  },
  {
   "cell_type": "markdown",
   "metadata": {},
   "source": [
    "# Acquisition"
   ]
  },
  {
   "cell_type": "markdown",
   "metadata": {},
   "source": [
    "### Helper functions"
   ]
  },
  {
   "cell_type": "code",
   "execution_count": 297,
   "metadata": {},
   "outputs": [],
   "source": [
    "#A function that returns a dataframe of all the historic data of a given ticker. \n",
    "def get_yfinance_data(ticker):\n",
    "\turl = f'https://query1.finance.yahoo.com/v7/finance/download/{ticker}?period1=994016928&period2=1642982400&interval=1d&events=history&includeAdjustedClose=true'\n",
    "\n",
    "\tdata = pd.read_csv(url)\n",
    "\n",
    "\treturn data"
   ]
  },
  {
   "cell_type": "markdown",
   "metadata": {},
   "source": [
    "### Retrieval"
   ]
  },
  {
   "cell_type": "code",
   "execution_count": 298,
   "metadata": {},
   "outputs": [],
   "source": [
    "#Get crypto historic prices\n",
    "df_btc_usd = get_yfinance_data('BTC-USD')\n",
    "df_eth_usd = get_yfinance_data('ETH-USD')\n",
    "df_sol_usd = get_yfinance_data('SOL1-USD')\n",
    "df_ada_usd = get_yfinance_data('ADA-USD')\n",
    "df_doge_usd = get_yfinance_data('DOGE-USD')\n",
    "df_xrp_usd = get_yfinance_data('XRP-USD')\n"
   ]
  },
  {
   "cell_type": "code",
   "execution_count": 299,
   "metadata": {},
   "outputs": [],
   "source": [
    "crypto_dfs = [df_sol_usd, df_ada_usd, df_doge_usd, df_eth_usd, df_xrp_usd]"
   ]
  },
  {
   "cell_type": "markdown",
   "metadata": {},
   "source": [
    "# Preprocessing"
   ]
  },
  {
   "cell_type": "markdown",
   "metadata": {},
   "source": [
    "### Helper functions"
   ]
  },
  {
   "cell_type": "code",
   "execution_count": 300,
   "metadata": {},
   "outputs": [],
   "source": [
    "#Function that returns the oldest data from a list of data frames. \n",
    "def str_to_datetime(dataframes, date_column):\n",
    "\tfor df in dataframes:\n",
    "\t\tdf[date_column] = pd.to_datetime(df[date_column]).dt.date\n",
    "\n",
    "#Function that returns the first date of the \"youngest\" of dataframes\n",
    "def get_min_possible_date(dataframes, date_column):\n",
    "\n",
    "\treturn max([min(dataframe[date_column]) for dataframe in dataframes])\n",
    "\n",
    "\n",
    "#DONT USE, Function that returns the oldest date along with the name of the df that contains it\n",
    "def get_oldest_df(dataframes, date_column):\n",
    "\tol_date = (get_min_possible_date(dataframes, date_column), 42)\n",
    "\tfor i, df in enumerate(dataframes):\n",
    "\t\tfirst_entry = min(df[date_column])\n",
    "\t\tif first_entry < ol_date[0]:\n",
    "\t\t\tol_date = (first_entry, i)\n",
    "\t\n",
    "\treturn ol_date[0], dataframes[ol_date[1]]"
   ]
  },
  {
   "cell_type": "markdown",
   "metadata": {},
   "source": [
    "### Crypto Index"
   ]
  },
  {
   "cell_type": "code",
   "execution_count": 301,
   "metadata": {},
   "outputs": [],
   "source": [
    "#Turn Date columns from str to datetime format\n",
    "# str_to_datetime(crypto_dfs, 'Date')"
   ]
  },
  {
   "cell_type": "markdown",
   "metadata": {},
   "source": [
    "We know that bitcoin is the oldest cryptocurrency so we can calculate the index with it as a base"
   ]
  },
  {
   "cell_type": "code",
   "execution_count": 302,
   "metadata": {},
   "outputs": [],
   "source": [
    "#Clean data to just the variables we need\n",
    "df_btc_usd = df_btc_usd[['Date', 'Close', 'Volume']].rename({'Close': 'BTC_price', 'Volume': 'BTC_vol'}, axis=1)\n",
    "df_eth_usd = df_eth_usd[['Date', 'Close', 'Volume']].rename({'Close': 'ETH_price', 'Volume': 'ETH_vol'}, axis=1)\n",
    "df_sol_usd = df_sol_usd[['Date', 'Close', 'Volume']].rename({'Close': 'SOL_price', 'Volume': 'SOL_vol'}, axis=1)\n",
    "df_ada_usd = df_ada_usd[['Date', 'Close', 'Volume']].rename({'Close': 'ADA_price', 'Volume': 'ADA_vol'}, axis=1)\n",
    "df_doge_usd = df_doge_usd[['Date', 'Close', 'Volume']].rename({'Close': 'DOGE_price', 'Volume': 'DOGE_vol'}, axis=1)\n",
    "df_xrp_usd = df_xrp_usd[['Date', 'Close', 'Volume']].rename({'Close': 'XRP_price', 'Volume': 'XRP_vol'}, axis=1)\n"
   ]
  },
  {
   "cell_type": "code",
   "execution_count": 303,
   "metadata": {},
   "outputs": [],
   "source": [
    "#Create new Dataframe inlcuding all cryptocurrencies closing prices and volumes\n",
    "cr_index = df_btc_usd\n",
    "cr_index = cr_index.merge(df_eth_usd, on='Date', how='left')\n",
    "cr_index = cr_index.merge(df_ada_usd, on='Date', how='left')\n",
    "cr_index = cr_index.merge(df_xrp_usd, on='Date', how='left')\n",
    "cr_index = cr_index.merge(df_doge_usd, on='Date', how='left')\n",
    "cr_index = cr_index.merge(df_sol_usd, on='Date', how='left')"
   ]
  },
  {
   "cell_type": "code",
   "execution_count": 304,
   "metadata": {},
   "outputs": [
    {
     "data": {
      "text/html": [
       "<div>\n",
       "<style scoped>\n",
       "    .dataframe tbody tr th:only-of-type {\n",
       "        vertical-align: middle;\n",
       "    }\n",
       "\n",
       "    .dataframe tbody tr th {\n",
       "        vertical-align: top;\n",
       "    }\n",
       "\n",
       "    .dataframe thead th {\n",
       "        text-align: right;\n",
       "    }\n",
       "</style>\n",
       "<table border=\"1\" class=\"dataframe\">\n",
       "  <thead>\n",
       "    <tr style=\"text-align: right;\">\n",
       "      <th></th>\n",
       "      <th>Date</th>\n",
       "      <th>BTC_price</th>\n",
       "      <th>BTC_vol</th>\n",
       "      <th>ETH_price</th>\n",
       "      <th>ETH_vol</th>\n",
       "      <th>ADA_price</th>\n",
       "      <th>ADA_vol</th>\n",
       "      <th>XRP_price</th>\n",
       "      <th>XRP_vol</th>\n",
       "      <th>DOGE_price</th>\n",
       "      <th>DOGE_vol</th>\n",
       "      <th>SOL_price</th>\n",
       "      <th>SOL_vol</th>\n",
       "    </tr>\n",
       "  </thead>\n",
       "  <tbody>\n",
       "    <tr>\n",
       "      <th>0</th>\n",
       "      <td>2014-09-17</td>\n",
       "      <td>457.334015</td>\n",
       "      <td>21056800</td>\n",
       "      <td>NaN</td>\n",
       "      <td>NaN</td>\n",
       "      <td>NaN</td>\n",
       "      <td>NaN</td>\n",
       "      <td>NaN</td>\n",
       "      <td>NaN</td>\n",
       "      <td>NaN</td>\n",
       "      <td>NaN</td>\n",
       "      <td>NaN</td>\n",
       "      <td>NaN</td>\n",
       "    </tr>\n",
       "    <tr>\n",
       "      <th>1</th>\n",
       "      <td>2014-09-18</td>\n",
       "      <td>424.440002</td>\n",
       "      <td>34483200</td>\n",
       "      <td>NaN</td>\n",
       "      <td>NaN</td>\n",
       "      <td>NaN</td>\n",
       "      <td>NaN</td>\n",
       "      <td>NaN</td>\n",
       "      <td>NaN</td>\n",
       "      <td>NaN</td>\n",
       "      <td>NaN</td>\n",
       "      <td>NaN</td>\n",
       "      <td>NaN</td>\n",
       "    </tr>\n",
       "    <tr>\n",
       "      <th>2</th>\n",
       "      <td>2014-09-19</td>\n",
       "      <td>394.795990</td>\n",
       "      <td>37919700</td>\n",
       "      <td>NaN</td>\n",
       "      <td>NaN</td>\n",
       "      <td>NaN</td>\n",
       "      <td>NaN</td>\n",
       "      <td>NaN</td>\n",
       "      <td>NaN</td>\n",
       "      <td>NaN</td>\n",
       "      <td>NaN</td>\n",
       "      <td>NaN</td>\n",
       "      <td>NaN</td>\n",
       "    </tr>\n",
       "    <tr>\n",
       "      <th>3</th>\n",
       "      <td>2014-09-20</td>\n",
       "      <td>408.903992</td>\n",
       "      <td>36863600</td>\n",
       "      <td>NaN</td>\n",
       "      <td>NaN</td>\n",
       "      <td>NaN</td>\n",
       "      <td>NaN</td>\n",
       "      <td>NaN</td>\n",
       "      <td>NaN</td>\n",
       "      <td>NaN</td>\n",
       "      <td>NaN</td>\n",
       "      <td>NaN</td>\n",
       "      <td>NaN</td>\n",
       "    </tr>\n",
       "    <tr>\n",
       "      <th>4</th>\n",
       "      <td>2014-09-21</td>\n",
       "      <td>398.821014</td>\n",
       "      <td>26580100</td>\n",
       "      <td>NaN</td>\n",
       "      <td>NaN</td>\n",
       "      <td>NaN</td>\n",
       "      <td>NaN</td>\n",
       "      <td>NaN</td>\n",
       "      <td>NaN</td>\n",
       "      <td>NaN</td>\n",
       "      <td>NaN</td>\n",
       "      <td>NaN</td>\n",
       "      <td>NaN</td>\n",
       "    </tr>\n",
       "    <tr>\n",
       "      <th>...</th>\n",
       "      <td>...</td>\n",
       "      <td>...</td>\n",
       "      <td>...</td>\n",
       "      <td>...</td>\n",
       "      <td>...</td>\n",
       "      <td>...</td>\n",
       "      <td>...</td>\n",
       "      <td>...</td>\n",
       "      <td>...</td>\n",
       "      <td>...</td>\n",
       "      <td>...</td>\n",
       "      <td>...</td>\n",
       "      <td>...</td>\n",
       "    </tr>\n",
       "    <tr>\n",
       "      <th>2682</th>\n",
       "      <td>2022-01-20</td>\n",
       "      <td>40680.417969</td>\n",
       "      <td>20382033940</td>\n",
       "      <td>3001.120117</td>\n",
       "      <td>1.064592e+10</td>\n",
       "      <td>1.258055</td>\n",
       "      <td>1.686210e+09</td>\n",
       "      <td>0.719421</td>\n",
       "      <td>1.251475e+09</td>\n",
       "      <td>0.155204</td>\n",
       "      <td>4.692697e+08</td>\n",
       "      <td>0.822658</td>\n",
       "      <td>50.0</td>\n",
       "    </tr>\n",
       "    <tr>\n",
       "      <th>2683</th>\n",
       "      <td>2022-01-21</td>\n",
       "      <td>36457.316406</td>\n",
       "      <td>43011992031</td>\n",
       "      <td>2557.931641</td>\n",
       "      <td>2.679629e+10</td>\n",
       "      <td>1.123233</td>\n",
       "      <td>3.009628e+09</td>\n",
       "      <td>0.635738</td>\n",
       "      <td>3.150759e+09</td>\n",
       "      <td>0.142640</td>\n",
       "      <td>1.163062e+09</td>\n",
       "      <td>0.770828</td>\n",
       "      <td>238.0</td>\n",
       "    </tr>\n",
       "    <tr>\n",
       "      <th>2684</th>\n",
       "      <td>2022-01-22</td>\n",
       "      <td>35030.250000</td>\n",
       "      <td>39714385405</td>\n",
       "      <td>2405.181152</td>\n",
       "      <td>2.736969e+10</td>\n",
       "      <td>1.066716</td>\n",
       "      <td>3.930475e+09</td>\n",
       "      <td>0.596042</td>\n",
       "      <td>3.613862e+09</td>\n",
       "      <td>0.132892</td>\n",
       "      <td>1.693525e+09</td>\n",
       "      <td>0.759746</td>\n",
       "      <td>319.0</td>\n",
       "    </tr>\n",
       "    <tr>\n",
       "      <th>2685</th>\n",
       "      <td>2022-01-23</td>\n",
       "      <td>36276.804688</td>\n",
       "      <td>26017975951</td>\n",
       "      <td>2535.039063</td>\n",
       "      <td>1.648149e+10</td>\n",
       "      <td>1.122371</td>\n",
       "      <td>2.362627e+09</td>\n",
       "      <td>0.628756</td>\n",
       "      <td>1.851935e+09</td>\n",
       "      <td>0.141863</td>\n",
       "      <td>1.006235e+09</td>\n",
       "      <td>0.777831</td>\n",
       "      <td>227.0</td>\n",
       "    </tr>\n",
       "    <tr>\n",
       "      <th>2686</th>\n",
       "      <td>2022-01-24</td>\n",
       "      <td>36707.500000</td>\n",
       "      <td>41936814080</td>\n",
       "      <td>2443.681885</td>\n",
       "      <td>2.836937e+10</td>\n",
       "      <td>1.069130</td>\n",
       "      <td>3.244780e+09</td>\n",
       "      <td>0.613100</td>\n",
       "      <td>2.766238e+09</td>\n",
       "      <td>0.137636</td>\n",
       "      <td>1.446281e+09</td>\n",
       "      <td>NaN</td>\n",
       "      <td>NaN</td>\n",
       "    </tr>\n",
       "  </tbody>\n",
       "</table>\n",
       "<p>2687 rows × 13 columns</p>\n",
       "</div>"
      ],
      "text/plain": [
       "            Date     BTC_price      BTC_vol    ETH_price       ETH_vol  \\\n",
       "0     2014-09-17    457.334015     21056800          NaN           NaN   \n",
       "1     2014-09-18    424.440002     34483200          NaN           NaN   \n",
       "2     2014-09-19    394.795990     37919700          NaN           NaN   \n",
       "3     2014-09-20    408.903992     36863600          NaN           NaN   \n",
       "4     2014-09-21    398.821014     26580100          NaN           NaN   \n",
       "...          ...           ...          ...          ...           ...   \n",
       "2682  2022-01-20  40680.417969  20382033940  3001.120117  1.064592e+10   \n",
       "2683  2022-01-21  36457.316406  43011992031  2557.931641  2.679629e+10   \n",
       "2684  2022-01-22  35030.250000  39714385405  2405.181152  2.736969e+10   \n",
       "2685  2022-01-23  36276.804688  26017975951  2535.039063  1.648149e+10   \n",
       "2686  2022-01-24  36707.500000  41936814080  2443.681885  2.836937e+10   \n",
       "\n",
       "      ADA_price       ADA_vol  XRP_price       XRP_vol  DOGE_price  \\\n",
       "0           NaN           NaN        NaN           NaN         NaN   \n",
       "1           NaN           NaN        NaN           NaN         NaN   \n",
       "2           NaN           NaN        NaN           NaN         NaN   \n",
       "3           NaN           NaN        NaN           NaN         NaN   \n",
       "4           NaN           NaN        NaN           NaN         NaN   \n",
       "...         ...           ...        ...           ...         ...   \n",
       "2682   1.258055  1.686210e+09   0.719421  1.251475e+09    0.155204   \n",
       "2683   1.123233  3.009628e+09   0.635738  3.150759e+09    0.142640   \n",
       "2684   1.066716  3.930475e+09   0.596042  3.613862e+09    0.132892   \n",
       "2685   1.122371  2.362627e+09   0.628756  1.851935e+09    0.141863   \n",
       "2686   1.069130  3.244780e+09   0.613100  2.766238e+09    0.137636   \n",
       "\n",
       "          DOGE_vol  SOL_price  SOL_vol  \n",
       "0              NaN        NaN      NaN  \n",
       "1              NaN        NaN      NaN  \n",
       "2              NaN        NaN      NaN  \n",
       "3              NaN        NaN      NaN  \n",
       "4              NaN        NaN      NaN  \n",
       "...            ...        ...      ...  \n",
       "2682  4.692697e+08   0.822658     50.0  \n",
       "2683  1.163062e+09   0.770828    238.0  \n",
       "2684  1.693525e+09   0.759746    319.0  \n",
       "2685  1.006235e+09   0.777831    227.0  \n",
       "2686  1.446281e+09        NaN      NaN  \n",
       "\n",
       "[2687 rows x 13 columns]"
      ]
     },
     "execution_count": 304,
     "metadata": {},
     "output_type": "execute_result"
    }
   ],
   "source": [
    "cr_index"
   ]
  },
  {
   "cell_type": "code",
   "execution_count": 305,
   "metadata": {},
   "outputs": [],
   "source": [
    "#Turn \"Date\" column to datetime format instead of str\n",
    "str_to_datetime([cr_index], 'Date')\n",
    "\n",
    "#Fill NaNs with 0\n",
    "cr_index = cr_index.fillna(0)\n",
    "\n",
    "#Calculate total trading volume per day\n",
    "cr_index['tot_volume'] = cr_index[['BTC_vol', 'ETH_vol', 'ADA_vol', 'XRP_vol', 'DOGE_vol', 'SOL_vol']].sum(axis=1)"
   ]
  },
  {
   "cell_type": "code",
   "execution_count": 306,
   "metadata": {},
   "outputs": [
    {
     "data": {
      "text/plain": [
       "Index(['Date', 'BTC_price', 'BTC_vol', 'ETH_price', 'ETH_vol', 'ADA_price',\n",
       "       'ADA_vol', 'XRP_price', 'XRP_vol', 'DOGE_price', 'DOGE_vol',\n",
       "       'SOL_price', 'SOL_vol', 'tot_volume'],\n",
       "      dtype='object')"
      ]
     },
     "execution_count": 306,
     "metadata": {},
     "output_type": "execute_result"
    }
   ],
   "source": [
    "cr_index.columns"
   ]
  },
  {
   "cell_type": "code",
   "execution_count": 307,
   "metadata": {},
   "outputs": [],
   "source": [
    "\n",
    "def index_calc(df):\n",
    "\n",
    "\treturn math.log(sum([(df['BTC_price']*(df['BTC_vol']/df['tot_volume'])),\n",
    "\t\t\t  (df['ETH_price']*(df['ETH_vol']/df['tot_volume'])),\n",
    "\t\t\t  (df['ADA_price']*(df['ADA_vol']/df['tot_volume'])),\n",
    "\t\t\t  (df['XRP_price']*(df['XRP_vol']/df['tot_volume'])),\n",
    "\t\t\t  (df['DOGE_price']*(df['DOGE_vol']/df['tot_volume'])),\n",
    "\t\t\t  (df['SOL_price']*(df['SOL_vol']/df['tot_volume']))]))\n",
    "\n",
    "cr_index['Crypto_Index'] = cr_index.apply(index_calc, axis=1)"
   ]
  },
  {
   "cell_type": "code",
   "execution_count": 308,
   "metadata": {},
   "outputs": [
    {
     "data": {
      "text/plain": [
       "[<matplotlib.lines.Line2D at 0x1202fcee0>]"
      ]
     },
     "execution_count": 308,
     "metadata": {},
     "output_type": "execute_result"
    },
    {
     "data": {
      "image/png": "[encoded data removed]",
      "text/plain": [
       "<Figure size 432x288 with 1 Axes>"
      ]
     },
     "metadata": {
      "needs_background": "light"
     },
     "output_type": "display_data"
    }
   ],
   "source": [
    "plt.plot(cr_index['Date'], cr_index['Crypto_Index'])\n"
   ]
  },
  {
   "cell_type": "code",
   "execution_count": null,
   "metadata": {},
   "outputs": [],
   "source": []
  }
 ],
 "metadata": {
  "interpreter": {
   "hash": "aee8b7b246df8f9039afb4144a1f6fd8d2ca17a180786b69acc140d282b71a49"
  },
  "kernelspec": {
   "display_name": "Python 3.9.8 64-bit",
   "language": "python",
   "name": "python3"
  },
  "language_info": {
   "codemirror_mode": {
    "name": "ipython",
    "version": 3
   },
   "file_extension": ".py",
   "mimetype": "text/x-python",
   "name": "python",
   "nbconvert_exporter": "python",
   "pygments_lexer": "ipython3",
   "version": "3.9.8"
  },
  "orig_nbformat": 4
 },
 "nbformat": 4,
 "nbformat_minor": 2
}
