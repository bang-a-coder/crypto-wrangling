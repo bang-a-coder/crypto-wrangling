{
 "cells": [
  {
   "cell_type": "markdown",
   "metadata": {},
   "source": [
    "## Imports"
   ]
  },
  {
   "cell_type": "code",
   "execution_count": 15,
   "metadata": {},
   "outputs": [],
   "source": [
    "import pandas as pd\n",
    "import requests\n",
    "from urllib.request import Request, urlopen    \n",
    "from pandas.api.types import is_datetime64_any_dtype as is_datetime\n",
    "from datetime import datetime\n",
    "\n"
   ]
  },
  {
   "cell_type": "markdown",
   "metadata": {},
   "source": [
    "# Acquisition"
   ]
  },
  {
   "cell_type": "markdown",
   "metadata": {},
   "source": [
    "### Helper functions"
   ]
  },
  {
   "cell_type": "code",
   "execution_count": 2,
   "metadata": {},
   "outputs": [],
   "source": [
    "#A function that returns a dataframe of all the historic data of a given ticker. \n",
    "def get_yfinance_data(ticker):\n",
    "\turl = f'https://query1.finance.yahoo.com/v7/finance/download/{ticker}?period1=994016928&period2=1642982400&interval=1d&events=history&includeAdjustedClose=true'\n",
    "\n",
    "\tdata = pd.read_csv(url)\n",
    "\n",
    "\treturn data"
   ]
  },
  {
   "cell_type": "markdown",
   "metadata": {},
   "source": [
    "### Retrieval"
   ]
  },
  {
   "cell_type": "code",
   "execution_count": 5,
   "metadata": {},
   "outputs": [],
   "source": [
    "#Get crypto historic prices\n",
    "df_btc_usd = get_yfinance_data('BTC-USD')\n",
    "df_eth_usd = get_yfinance_data('ETH-USD')\n",
    "df_sol_usd = get_yfinance_data('SOL1-USD')\n",
    "df_ada_usd = get_yfinance_data('ADA-USD')\n",
    "df_doge_usd = get_yfinance_data('DOGE-USD')\n",
    "df_xrp_usd = get_yfinance_data('XRP-USD')\n"
   ]
  },
  {
   "cell_type": "code",
   "execution_count": 21,
   "metadata": {},
   "outputs": [],
   "source": [
    "crypto_dfs = [df_sol_usd, df_btc_usd, df_ada_usd, df_doge_usd, df_eth_usd, df_xrp_usd]"
   ]
  },
  {
   "cell_type": "markdown",
   "metadata": {},
   "source": [
    "# Preprocessing"
   ]
  },
  {
   "cell_type": "markdown",
   "metadata": {},
   "source": [
    "### Helper functions"
   ]
  },
  {
   "cell_type": "code",
   "execution_count": 37,
   "metadata": {},
   "outputs": [],
   "source": [
    "#Function that returns the oldest data from a list of data frames. \n",
    "def str_to_datetime(dataframes, date_column):\n",
    "\tfor df in dataframes:\n",
    "\t\tdf[date_column] = pd.to_datetime(df[date_column]).dt.date\n",
    "\n",
    "#Function that returns the first date of the \"youngest\" of dataframes\n",
    "def get_min_possible_date(dataframes, date_column):\n",
    "\n",
    "\treturn max([min(dataframe[date_column]) for dataframe in dataframes])\n"
   ]
  },
  {
   "cell_type": "markdown",
   "metadata": {},
   "source": [
    "### Prep"
   ]
  },
  {
   "cell_type": "code",
   "execution_count": 31,
   "metadata": {},
   "outputs": [],
   "source": [
    "#Turn Date columns from str to datetime format\n",
    "str_to_datetime(crypto_dfs, 'Date')"
   ]
  },
  {
   "cell_type": "code",
   "execution_count": 39,
   "metadata": {},
   "outputs": [
    {
     "name": "stdout",
     "output_type": "stream",
     "text": [
      "2021-09-20\n"
     ]
    }
   ],
   "source": [
    "print(get_oldest_date(crypto_dfs, 'Date'))"
   ]
  },
  {
   "cell_type": "code",
   "execution_count": null,
   "metadata": {},
   "outputs": [],
   "source": []
  }
 ],
 "metadata": {
  "interpreter": {
   "hash": "aee8b7b246df8f9039afb4144a1f6fd8d2ca17a180786b69acc140d282b71a49"
  },
  "kernelspec": {
   "display_name": "Python 3.9.8 64-bit",
   "language": "python",
   "name": "python3"
  },
  "language_info": {
   "codemirror_mode": {
    "name": "ipython",
    "version": 3
   },
   "file_extension": ".py",
   "mimetype": "text/x-python",
   "name": "python",
   "nbconvert_exporter": "python",
   "pygments_lexer": "ipython3",
   "version": "3.9.8"
  },
  "orig_nbformat": 4
 },
 "nbformat": 4,
 "nbformat_minor": 2
}
