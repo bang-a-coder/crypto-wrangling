{
 "cells": [
  {
   "cell_type": "markdown",
   "metadata": {},
   "source": [
    "## Imports"
   ]
  },
  {
   "cell_type": "code",
   "execution_count": 1228,
   "metadata": {},
   "outputs": [],
   "source": [
    "import pandas as pd\n",
    "import requests\n",
    "from urllib.request import Request, urlopen    \n",
    "from pandas.api.types import is_datetime64_any_dtype as is_datetime\n",
    "from datetime import datetime\n",
    "import math\n",
    "import matplotlib.pyplot  as plt\n",
    "import tabula\n",
    "from tabula.io import read_pdf\n",
    "from statistics import mean\n",
    "\n",
    "\n"
   ]
  },
  {
   "cell_type": "markdown",
   "metadata": {},
   "source": [
    "# Acquisition"
   ]
  },
  {
   "cell_type": "markdown",
   "metadata": {},
   "source": [
    "### Helper functions"
   ]
  },
  {
   "cell_type": "code",
   "execution_count": 1229,
   "metadata": {},
   "outputs": [],
   "source": [
    "#A function that returns a dataframe of all the historic data of a given ticker. \n",
    "def get_yfinance_data(ticker):\n",
    "\turl = f'https://query1.finance.yahoo.com/v7/finance/download/{ticker}?period1=994016928&period2=1642982400&interval=1d&events=history&includeAdjustedClose=true'\n",
    "\n",
    "\tdata = pd.read_csv(url)\n",
    "\n",
    "\treturn data"
   ]
  },
  {
   "cell_type": "markdown",
   "metadata": {},
   "source": [
    "### Retrieval"
   ]
  },
  {
   "cell_type": "code",
   "execution_count": 1230,
   "metadata": {},
   "outputs": [],
   "source": [
    "#Get crypto historic prices\n",
    "df_btc_usd = get_yfinance_data('BTC-USD')\n",
    "df_eth_usd = get_yfinance_data('ETH-USD')\n",
    "df_sol_usd = get_yfinance_data('SOL1-USD')\n",
    "df_ada_usd = get_yfinance_data('ADA-USD')\n",
    "df_doge_usd = get_yfinance_data('DOGE-USD')\n",
    "df_xrp_usd = get_yfinance_data('XRP-USD')\n"
   ]
  },
  {
   "cell_type": "code",
   "execution_count": 1231,
   "metadata": {},
   "outputs": [],
   "source": [
    "crypto_dfs = [df_sol_usd, df_ada_usd, df_doge_usd, df_eth_usd, df_xrp_usd]"
   ]
  },
  {
   "cell_type": "code",
   "execution_count": 1232,
   "metadata": {},
   "outputs": [],
   "source": [
    "#Get SOXX historic prices\n",
    "df_soxx = get_yfinance_data('SOXX')"
   ]
  },
  {
   "cell_type": "code",
   "execution_count": 1233,
   "metadata": {},
   "outputs": [],
   "source": [
    "#Get Crude oil prices\n",
    "df_oil = get_yfinance_data('CL=F')"
   ]
  },
  {
   "cell_type": "code",
   "execution_count": 1234,
   "metadata": {},
   "outputs": [],
   "source": [
    "#Get cloud companies (server providers) ETF prices\n",
    "df_servers = get_yfinance_data('SKYY')"
   ]
  },
  {
   "cell_type": "code",
   "execution_count": 1235,
   "metadata": {},
   "outputs": [],
   "source": [
    "#Get US wildfires\n",
    "df_wildfires = pd.read_csv(\"https://www.ncdc.noaa.gov/societal-impacts/wildfires/ytd/0/data.csv\", skiprows=1)"
   ]
  },
  {
   "cell_type": "code",
   "execution_count": 1236,
   "metadata": {},
   "outputs": [],
   "source": [
    "df_divorce = tabula.read_pdf('https://www.cdc.gov/nchs/data/dvs/national-marriage-divorce-rates-00-19.pdf', pages=1)[0]"
   ]
  },
  {
   "cell_type": "code",
   "execution_count": 1237,
   "metadata": {},
   "outputs": [],
   "source": [
    "#Get Nicolas Cage data\n",
    "url = 'https://imdb-api.com/API/Name/k_vt8o65n8/nm0000115'\n",
    "resp = requests.get(url)\n",
    "nc_data = resp.json()\n",
    "df_nicolas = pd.DataFrame(nc_data['castMovies'])\n"
   ]
  },
  {
   "cell_type": "code",
   "execution_count": 1238,
   "metadata": {},
   "outputs": [],
   "source": [
    "#Get GHG emmissions in Europe\n",
    "#source https://ourworldindata.org/co2-emissions\n",
    "df_ghg = pd.read_csv('datasets/annual-co2-emissions-per-country.csv')"
   ]
  },
  {
   "cell_type": "code",
   "execution_count": 1239,
   "metadata": {},
   "outputs": [],
   "source": [
    "#Get energy conspumption in Europe in kWh\n",
    "#source https://ourworldindata.org/grapher/primary-energy-cons?tab=chart&time=2000..latest&country=~Europe\n",
    "df_nrg = pd.read_csv('datasets/primary-energy-cons.csv')"
   ]
  },
  {
   "cell_type": "code",
   "execution_count": 1240,
   "metadata": {},
   "outputs": [],
   "source": [
    "#Get renewable energy share of total energy consumption\n",
    "df_renewable = pd.read_csv('datasets/nrg_ind_ren_page_linear.csv')"
   ]
  },
  {
   "cell_type": "code",
   "execution_count": 1241,
   "metadata": {},
   "outputs": [],
   "source": [
    "#Get renewable energy production of total production\n",
    "df_renewable_prod = pd.read_csv('datasets/share-elec-by-source.csv')"
   ]
  },
  {
   "cell_type": "markdown",
   "metadata": {},
   "source": [
    "# Wrangling"
   ]
  },
  {
   "cell_type": "markdown",
   "metadata": {},
   "source": [
    "### Helper functions"
   ]
  },
  {
   "cell_type": "code",
   "execution_count": 1242,
   "metadata": {},
   "outputs": [],
   "source": [
    "#Function that returns the oldest data from a list of data frames. \n",
    "def str_to_datetime(dataframes, date_column):\n",
    "\tfor df in dataframes:\n",
    "\t\tdf[date_column] = pd.to_datetime(df[date_column]).dt.date\n",
    "\n",
    "#Function that returns the first date of the \"youngest\" of dataframes\n",
    "def get_min_possible_date(dataframes, date_column):\n",
    "\n",
    "\treturn max([min(dataframe[date_column]) for dataframe in dataframes])\n",
    "\n",
    "\n",
    "#DONT USE, Function that returns the oldest date along with the name of the df that contains it\n",
    "def get_oldest_df(dataframes, date_column):\n",
    "\tol_date = (get_min_possible_date(dataframes, date_column), 42)\n",
    "\tfor i, df in enumerate(dataframes):\n",
    "\t\tfirst_entry = min(df[date_column])\n",
    "\t\tif first_entry < ol_date[0]:\n",
    "\t\t\tol_date = (first_entry, i)\n",
    "\t\n",
    "\treturn ol_date[0], dataframes[ol_date[1]]\n",
    "\n",
    "def clear_years(data): ## remove extra note on year strings\n",
    "\tif len(data) > 4:\n",
    "\t\tdata = data[0:4]\n",
    "\n",
    "\treturn data"
   ]
  },
  {
   "cell_type": "markdown",
   "metadata": {},
   "source": [
    "### Crypto Index"
   ]
  },
  {
   "cell_type": "markdown",
   "metadata": {},
   "source": [
    "We know that bitcoin is the oldest cryptocurrency so we can calculate the index with it as a base"
   ]
  },
  {
   "cell_type": "code",
   "execution_count": 1243,
   "metadata": {},
   "outputs": [],
   "source": [
    "#Clean data to just the variables we need\n",
    "df_btc_usd = df_btc_usd[['Date', 'Close', 'Volume']].rename({'Close': 'BTC_price', 'Volume': 'BTC_vol'}, axis=1)\n",
    "df_eth_usd = df_eth_usd[['Date', 'Close', 'Volume']].rename({'Close': 'ETH_price', 'Volume': 'ETH_vol'}, axis=1)\n",
    "df_sol_usd = df_sol_usd[['Date', 'Close', 'Volume']].rename({'Close': 'SOL_price', 'Volume': 'SOL_vol'}, axis=1)\n",
    "df_ada_usd = df_ada_usd[['Date', 'Close', 'Volume']].rename({'Close': 'ADA_price', 'Volume': 'ADA_vol'}, axis=1)\n",
    "df_doge_usd = df_doge_usd[['Date', 'Close', 'Volume']].rename({'Close': 'DOGE_price', 'Volume': 'DOGE_vol'}, axis=1)\n",
    "df_xrp_usd = df_xrp_usd[['Date', 'Close', 'Volume']].rename({'Close': 'XRP_price', 'Volume': 'XRP_vol'}, axis=1)\n"
   ]
  },
  {
   "cell_type": "code",
   "execution_count": 1244,
   "metadata": {},
   "outputs": [],
   "source": [
    "#Create new Dataframe inlcuding all cryptocurrencies closing prices and volumes\n",
    "cr_index = df_btc_usd\n",
    "cr_index = cr_index.merge(df_eth_usd, on='Date', how='left')\n",
    "cr_index = cr_index.merge(df_ada_usd, on='Date', how='left')\n",
    "cr_index = cr_index.merge(df_xrp_usd, on='Date', how='left')\n",
    "cr_index = cr_index.merge(df_doge_usd, on='Date', how='left')\n",
    "cr_index = cr_index.merge(df_sol_usd, on='Date', how='left')"
   ]
  },
  {
   "cell_type": "code",
   "execution_count": 1245,
   "metadata": {},
   "outputs": [],
   "source": [
    "#Turn \"Date\" column to datetime format instead of str\n",
    "str_to_datetime([cr_index], 'Date')\n",
    "\n",
    "#Fill NaNs with 0\n",
    "cr_index = cr_index.fillna(0)\n",
    "\n",
    "#Calculate total trading volume per day\n",
    "cr_index['tot_volume'] = cr_index[['BTC_vol', 'ETH_vol', 'ADA_vol', 'XRP_vol', 'DOGE_vol', 'SOL_vol']].sum(axis=1)"
   ]
  },
  {
   "cell_type": "code",
   "execution_count": 1246,
   "metadata": {},
   "outputs": [
    {
     "data": {
      "text/plain": [
       "Index(['Date', 'BTC_price', 'BTC_vol', 'ETH_price', 'ETH_vol', 'ADA_price',\n",
       "       'ADA_vol', 'XRP_price', 'XRP_vol', 'DOGE_price', 'DOGE_vol',\n",
       "       'SOL_price', 'SOL_vol', 'tot_volume'],\n",
       "      dtype='object')"
      ]
     },
     "execution_count": 1246,
     "metadata": {},
     "output_type": "execute_result"
    }
   ],
   "source": [
    "cr_index.columns"
   ]
  },
  {
   "cell_type": "code",
   "execution_count": 1247,
   "metadata": {},
   "outputs": [],
   "source": [
    "\n",
    "def index_calc(df):\n",
    "\n",
    "\treturn math.log(sum([(df['BTC_price']*(df['BTC_vol']/df['tot_volume'])),\n",
    "\t\t\t  (df['ETH_price']*(df['ETH_vol']/df['tot_volume'])),\n",
    "\t\t\t  (df['ADA_price']*(df['ADA_vol']/df['tot_volume'])),\n",
    "\t\t\t  (df['XRP_price']*(df['XRP_vol']/df['tot_volume'])),\n",
    "\t\t\t  (df['DOGE_price']*(df['DOGE_vol']/df['tot_volume'])),\n",
    "\t\t\t  (df['SOL_price']*(df['SOL_vol']/df['tot_volume']))]))\n",
    "\n",
    "cr_index['Crypto_Index'] = cr_index.apply(index_calc, axis=1)\n",
    "cr_index = cr_index[['Date', 'Crypto_Index']]\n",
    "cr_index['Date'] = pd.to_datetime(cr_index['Date'])\n",
    "cr_index = cr_index.set_index(cr_index['Date'])\n",
    "cr_index = cr_index[['Crypto_Index']]\n",
    "cr_index = cr_index.groupby(cr_index.index.year).agg('mean')"
   ]
  },
  {
   "cell_type": "code",
   "execution_count": 1248,
   "metadata": {},
   "outputs": [
    {
     "data": {
      "text/plain": [
       "<AxesSubplot:xlabel='Date'>"
      ]
     },
     "execution_count": 1248,
     "metadata": {},
     "output_type": "execute_result"
    },
    {
     "data": {
      "image/png": "[encoded data removed]",
      "text/plain": [
       "<Figure size 432x288 with 1 Axes>"
      ]
     },
     "metadata": {
      "needs_background": "light"
     },
     "output_type": "display_data"
    }
   ],
   "source": [
    "cr_index.plot()"
   ]
  },
  {
   "cell_type": "markdown",
   "metadata": {},
   "source": [
    "### Other indices"
   ]
  },
  {
   "cell_type": "code",
   "execution_count": 1249,
   "metadata": {},
   "outputs": [],
   "source": [
    "#Finance dataframes to datetime format\n",
    "df_soxx['Date'] = pd.to_datetime(df_soxx['Date'])\n",
    "df_oil['Date'] = pd.to_datetime(df_oil['Date'])\n",
    "df_servers['Date'] = pd.to_datetime(df_servers['Date'])"
   ]
  },
  {
   "cell_type": "code",
   "execution_count": 1250,
   "metadata": {},
   "outputs": [],
   "source": [
    "#Wildfires prep\n",
    "df_wildfires['Date'] = pd.to_datetime(df_wildfires['Date'], format=\"%Y%m\")"
   ]
  },
  {
   "cell_type": "code",
   "execution_count": 1251,
   "metadata": {},
   "outputs": [],
   "source": [
    "df_divorce.rename(columns=df_divorce.iloc[1], inplace=True) #column names were perceived as a row, turn the into actual column names\n",
    "df_divorce = df_divorce.iloc[2:, :] # delete first 2 rows of no data\n",
    "df_divorce = df_divorce.reset_index().drop('index',axis=1) # drop old index after reset\n",
    "df_divorce['Year'] = df_divorce['Year'].apply(clear_years) #clear year data strings from unwanted extra note\n",
    "df_divorce.rename(columns={'Year': 'Date'}, inplace=True) # change name for consistency\n",
    "df_divorce['Date'] = pd.to_datetime(df_divorce['Date'], format='%Y')\n",
    "df_divorce.replace(',', '', inplace=True, regex=True) #remove commas from number strings so we an turn them into int\n",
    "df_divorce[['Marriages', 'Population', 'population']] = df_divorce[['Marriages', 'Population', 'population']].apply(pd.to_numeric) #turn str numbers into int"
   ]
  },
  {
   "cell_type": "code",
   "execution_count": 1252,
   "metadata": {},
   "outputs": [],
   "source": [
    "#Nicolas Cage prep\n",
    "df_nicolas = df_nicolas[df_nicolas['role'] == \"Actor\"] #Keep only movies where he was an actor\n",
    "df_nicolas = df_nicolas[['year', 'title', 'description']] # drop redundant columns and change order\n",
    "df_nicolas = df_nicolas[df_nicolas['year'] != ''] #drop that haven't been released yet\n",
    "df_nicolas.rename(columns={'year': 'Date'}, inplace=True) #rename year column for consistency\n",
    "df_nicolas['Date'] = df_nicolas['Date'].apply(clear_years) #Clear years for notes and extra chars\n",
    "df_nicolas['Date'] = pd.to_datetime(df_nicolas['Date']) #str to datetime for Years column\n",
    "df_nicolas = df_nicolas.sort_values('Date', ascending=False) #sort new to old\n",
    "df_nicolas = df_nicolas.reset_index().drop('index',axis=1) # drop old index after reset\n",
    "df_nicolas = pd.DataFrame(df_nicolas['title'].groupby(df_nicolas['Date']).agg('count') ) #get number of movies per year\n",
    "df_nicolas.reset_index(inplace=True) #reset the idex for consistency\n",
    "df_nicolas.rename(columns={'title': 'no. of movies'}, inplace=True) #change name for clarity"
   ]
  },
  {
   "cell_type": "code",
   "execution_count": 1253,
   "metadata": {},
   "outputs": [],
   "source": [
    "#GHG prep\n",
    "df_ghg = df_ghg[df_ghg['Entity'] == 'Europe'] # Select only europe\n",
    "df_ghg = df_ghg[df_ghg['Year'] >= 2000] # Select data only form 2000 and beyond\n",
    "df_ghg.rename(columns={'Year':'Date', 'Annual CO2 emissions':'Value(tn)'}, inplace=True) #Change columns name values for consistency\n",
    "df_ghg['Date'] = pd.to_datetime(df_ghg['Date'], format='%Y') #Date from str to datetime\n",
    "df_ghg = df_ghg.reset_index().drop('index',axis=1) #reset and clear index\n",
    "df_ghg = df_ghg[['Date', 'Value(tn)']] #keep only relevant columns"
   ]
  },
  {
   "cell_type": "code",
   "execution_count": 1254,
   "metadata": {},
   "outputs": [
    {
     "data": {
      "text/html": [
       "<div>\n",
       "<style scoped>\n",
       "    .dataframe tbody tr th:only-of-type {\n",
       "        vertical-align: middle;\n",
       "    }\n",
       "\n",
       "    .dataframe tbody tr th {\n",
       "        vertical-align: top;\n",
       "    }\n",
       "\n",
       "    .dataframe thead th {\n",
       "        text-align: right;\n",
       "    }\n",
       "</style>\n",
       "<table border=\"1\" class=\"dataframe\">\n",
       "  <thead>\n",
       "    <tr style=\"text-align: right;\">\n",
       "      <th></th>\n",
       "      <th>Value(TWh)</th>\n",
       "    </tr>\n",
       "    <tr>\n",
       "      <th>Date</th>\n",
       "      <th></th>\n",
       "    </tr>\n",
       "  </thead>\n",
       "  <tbody>\n",
       "    <tr>\n",
       "      <th>2011</th>\n",
       "      <td>24071.279</td>\n",
       "    </tr>\n",
       "    <tr>\n",
       "      <th>2012</th>\n",
       "      <td>23977.085</td>\n",
       "    </tr>\n",
       "    <tr>\n",
       "      <th>2013</th>\n",
       "      <td>23729.439</td>\n",
       "    </tr>\n",
       "    <tr>\n",
       "      <th>2014</th>\n",
       "      <td>22806.380</td>\n",
       "    </tr>\n",
       "    <tr>\n",
       "      <th>2015</th>\n",
       "      <td>22992.401</td>\n",
       "    </tr>\n",
       "    <tr>\n",
       "      <th>2016</th>\n",
       "      <td>23305.822</td>\n",
       "    </tr>\n",
       "    <tr>\n",
       "      <th>2017</th>\n",
       "      <td>23543.516</td>\n",
       "    </tr>\n",
       "    <tr>\n",
       "      <th>2018</th>\n",
       "      <td>23543.272</td>\n",
       "    </tr>\n",
       "    <tr>\n",
       "      <th>2019</th>\n",
       "      <td>23282.096</td>\n",
       "    </tr>\n",
       "  </tbody>\n",
       "</table>\n",
       "</div>"
      ],
      "text/plain": [
       "      Value(TWh)\n",
       "Date            \n",
       "2011   24071.279\n",
       "2012   23977.085\n",
       "2013   23729.439\n",
       "2014   22806.380\n",
       "2015   22992.401\n",
       "2016   23305.822\n",
       "2017   23543.516\n",
       "2018   23543.272\n",
       "2019   23282.096"
      ]
     },
     "execution_count": 1254,
     "metadata": {},
     "output_type": "execute_result"
    }
   ],
   "source": [
    "#Energy consumption prep\n",
    "df_nrg = df_nrg[df_nrg['Entity'] == 'Europe'] # Select only europe\n",
    "df_nrg = df_nrg[df_nrg['Year'] >= 2011] # Select data only form 2000 and beyond\n",
    "df_nrg.rename(columns={'Year':'Date', 'Primary energy consumption (TWh)':'Value(TWh)'}, inplace=True) #Change columns name values for consistency\n",
    "df_nrg['Date'] = pd.to_datetime(df_nrg['Date'], format='%Y') #Date from str to datetime\n",
    "df_nrg = df_nrg.reset_index().drop('index',axis=1) #reset and clear index\n",
    "df_nrg = df_nrg[['Date', 'Value(TWh)']] #keep only relevant columns\n",
    "df_nrg['Date'] = df_nrg['Date'].dt.year\n",
    "df_nrg = df_nrg.set_index('Date')\n",
    "df_nrg"
   ]
  },
  {
   "cell_type": "code",
   "execution_count": 1255,
   "metadata": {},
   "outputs": [
    {
     "data": {
      "text/html": [
       "<div>\n",
       "<style scoped>\n",
       "    .dataframe tbody tr th:only-of-type {\n",
       "        vertical-align: middle;\n",
       "    }\n",
       "\n",
       "    .dataframe tbody tr th {\n",
       "        vertical-align: top;\n",
       "    }\n",
       "\n",
       "    .dataframe thead th {\n",
       "        text-align: right;\n",
       "    }\n",
       "</style>\n",
       "<table border=\"1\" class=\"dataframe\">\n",
       "  <thead>\n",
       "    <tr style=\"text-align: right;\">\n",
       "      <th></th>\n",
       "      <th>renew_from_total</th>\n",
       "    </tr>\n",
       "    <tr>\n",
       "      <th>Date</th>\n",
       "      <th></th>\n",
       "    </tr>\n",
       "  </thead>\n",
       "  <tbody>\n",
       "    <tr>\n",
       "      <th>2011</th>\n",
       "      <td>4872</td>\n",
       "    </tr>\n",
       "    <tr>\n",
       "      <th>2012</th>\n",
       "      <td>5153</td>\n",
       "    </tr>\n",
       "    <tr>\n",
       "      <th>2013</th>\n",
       "      <td>5294</td>\n",
       "    </tr>\n",
       "    <tr>\n",
       "      <th>2014</th>\n",
       "      <td>5292</td>\n",
       "    </tr>\n",
       "    <tr>\n",
       "      <th>2015</th>\n",
       "      <td>5443</td>\n",
       "    </tr>\n",
       "    <tr>\n",
       "      <th>2016</th>\n",
       "      <td>5582</td>\n",
       "    </tr>\n",
       "    <tr>\n",
       "      <th>2017</th>\n",
       "      <td>5693</td>\n",
       "    </tr>\n",
       "    <tr>\n",
       "      <th>2018</th>\n",
       "      <td>5918</td>\n",
       "    </tr>\n",
       "    <tr>\n",
       "      <th>2019</th>\n",
       "      <td>6026</td>\n",
       "    </tr>\n",
       "  </tbody>\n",
       "</table>\n",
       "</div>"
      ],
      "text/plain": [
       "      renew_from_total\n",
       "Date                  \n",
       "2011              4872\n",
       "2012              5153\n",
       "2013              5294\n",
       "2014              5292\n",
       "2015              5443\n",
       "2016              5582\n",
       "2017              5693\n",
       "2018              5918\n",
       "2019              6026"
      ]
     },
     "execution_count": 1255,
     "metadata": {},
     "output_type": "execute_result"
    }
   ],
   "source": [
    "#Renewables consumption prepprep\n",
    "a = (df_renewable.groupby(['TIME_PERIOD','OBS_VALUE'],as_index = False)['OBS_VALUE'].mean().groupby('TIME_PERIOD').mean()).reset_index()\n",
    "a['TIME_PERIOD'] = pd.to_datetime(a['TIME_PERIOD'], format='%Y')\n",
    "a.rename(columns={'TIME_PERIOD': 'Date', 'OBS_VALUE': 'avg_share'}, inplace=True)\n",
    "df_renewable = a\n",
    "df_renewable['Date'] = df_renewable['Date'].dt.year\n",
    "df_renewable = df_renewable.set_index('Date')\n",
    "df_renewable = df_renewable[df_renewable.index < 2020]\n",
    "df_renewable['avg_share'] = df_renewable['avg_share'] / 100\n",
    "df_renewable['renew_from_total'] = (df_renewable['avg_share'] * df_nrg['Value(TWh)']).astype('int')\n",
    "df_renewable = df_renewable[['renew_from_total']]\n",
    "df_renewable"
   ]
  },
  {
   "cell_type": "markdown",
   "metadata": {},
   "source": [
    "## Combine data into index"
   ]
  },
  {
   "cell_type": "code",
   "execution_count": 1260,
   "metadata": {},
   "outputs": [
    {
     "data": {
      "text/html": [
       "<div>\n",
       "<style scoped>\n",
       "    .dataframe tbody tr th:only-of-type {\n",
       "        vertical-align: middle;\n",
       "    }\n",
       "\n",
       "    .dataframe tbody tr th {\n",
       "        vertical-align: top;\n",
       "    }\n",
       "\n",
       "    .dataframe thead th {\n",
       "        text-align: right;\n",
       "    }\n",
       "</style>\n",
       "<table border=\"1\" class=\"dataframe\">\n",
       "  <thead>\n",
       "    <tr style=\"text-align: right;\">\n",
       "      <th></th>\n",
       "      <th>Crypto_Index</th>\n",
       "    </tr>\n",
       "    <tr>\n",
       "      <th>Date</th>\n",
       "      <th></th>\n",
       "    </tr>\n",
       "  </thead>\n",
       "  <tbody>\n",
       "    <tr>\n",
       "      <th>2014</th>\n",
       "      <td>5.892854</td>\n",
       "    </tr>\n",
       "    <tr>\n",
       "      <th>2015</th>\n",
       "      <td>5.587591</td>\n",
       "    </tr>\n",
       "    <tr>\n",
       "      <th>2016</th>\n",
       "      <td>6.313238</td>\n",
       "    </tr>\n",
       "    <tr>\n",
       "      <th>2017</th>\n",
       "      <td>7.871302</td>\n",
       "    </tr>\n",
       "    <tr>\n",
       "      <th>2018</th>\n",
       "      <td>8.490991</td>\n",
       "    </tr>\n",
       "    <tr>\n",
       "      <th>2019</th>\n",
       "      <td>8.429684</td>\n",
       "    </tr>\n",
       "    <tr>\n",
       "      <th>2020</th>\n",
       "      <td>8.830728</td>\n",
       "    </tr>\n",
       "    <tr>\n",
       "      <th>2021</th>\n",
       "      <td>10.146723</td>\n",
       "    </tr>\n",
       "    <tr>\n",
       "      <th>2022</th>\n",
       "      <td>10.157530</td>\n",
       "    </tr>\n",
       "  </tbody>\n",
       "</table>\n",
       "</div>"
      ],
      "text/plain": [
       "      Crypto_Index\n",
       "Date              \n",
       "2014      5.892854\n",
       "2015      5.587591\n",
       "2016      6.313238\n",
       "2017      7.871302\n",
       "2018      8.490991\n",
       "2019      8.429684\n",
       "2020      8.830728\n",
       "2021     10.146723\n",
       "2022     10.157530"
      ]
     },
     "execution_count": 1260,
     "metadata": {},
     "output_type": "execute_result"
    }
   ],
   "source": [
    "cr_index"
   ]
  },
  {
   "cell_type": "code",
   "execution_count": null,
   "metadata": {},
   "outputs": [],
   "source": []
  }
 ],
 "metadata": {
  "interpreter": {
   "hash": "aee8b7b246df8f9039afb4144a1f6fd8d2ca17a180786b69acc140d282b71a49"
  },
  "kernelspec": {
   "display_name": "Python 3.9.8 64-bit",
   "language": "python",
   "name": "python3"
  },
  "language_info": {
   "codemirror_mode": {
    "name": "ipython",
    "version": 3
   },
   "file_extension": ".py",
   "mimetype": "text/x-python",
   "name": "python",
   "nbconvert_exporter": "python",
   "pygments_lexer": "ipython3",
   "version": "3.9.8"
  },
  "orig_nbformat": 4
 },
 "nbformat": 4,
 "nbformat_minor": 2
}
